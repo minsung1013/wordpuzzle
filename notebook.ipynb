{
 "cells": [
  {
   "cell_type": "code",
   "execution_count": 1,
   "metadata": {},
   "outputs": [],
   "source": [
    "import pandas as pd\n",
    "import random\n",
    "\n",
    "word = pd.read_csv('five_letter_words_all.csv')\n",
    "word = word.iloc[:,0].to_list()\n",
    "\n",
    "# Randomly select a word\n",
    "question = random.choice(word)\n",
    "\n",
    "def check_answer(question, answer):\n",
    "    if answer not in word:\n",
    "        return 'Invalid answer'\n",
    "    # first character\n",
    "    result = []\n",
    "    for i in range(len(question)):\n",
    "        if question[i] == answer[i]:\n",
    "            result.append('O')\n",
    "        elif answer[i] in question:\n",
    "            result.append('/')\n",
    "        else:\n",
    "            result.append('X')\n",
    "    return result\n",
    "\n",
    "answer = 'never'\n",
    "check_answer(question, answer)"
   ]
  }
 ],
 "metadata": {
  "kernelspec": {
   "display_name": "base",
   "language": "python",
   "name": "python3"
  },
  "language_info": {
   "codemirror_mode": {
    "name": "ipython",
    "version": 3
   },
   "file_extension": ".py",
   "mimetype": "text/x-python",
   "name": "python",
   "nbconvert_exporter": "python",
   "pygments_lexer": "ipython3",
   "version": "3.11.5"
  }
 },
 "nbformat": 4,
 "nbformat_minor": 2
}
